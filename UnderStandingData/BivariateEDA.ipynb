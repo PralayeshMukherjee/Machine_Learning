{
 "cells": [
  {
   "cell_type": "markdown",
   "id": "8709119c",
   "metadata": {},
   "source": [
    "## Bivariate -> Bi + Variate => Double Variable"
   ]
  },
  {
   "cell_type": "code",
   "execution_count": 1,
   "id": "52ca04f0",
   "metadata": {},
   "outputs": [],
   "source": [
    "import pandas as pd;\n",
    "import seaborn as sns;"
   ]
  },
  {
   "cell_type": "code",
   "execution_count": 7,
   "id": "420f3975",
   "metadata": {},
   "outputs": [],
   "source": [
    "tips = pd.read_csv('tip.csv');\n",
    "titanic = pd.read_csv('train.csv');\n",
    "flights = pd.read_csv('flights.csv');\n",
    "iris = pd.read_csv('Iris.csv');"
   ]
  }
 ],
 "metadata": {
  "kernelspec": {
   "display_name": ".venv",
   "language": "python",
   "name": "python3"
  },
  "language_info": {
   "codemirror_mode": {
    "name": "ipython",
    "version": 3
   },
   "file_extension": ".py",
   "mimetype": "text/x-python",
   "name": "python",
   "nbconvert_exporter": "python",
   "pygments_lexer": "ipython3",
   "version": "3.13.6"
  }
 },
 "nbformat": 4,
 "nbformat_minor": 5
}
