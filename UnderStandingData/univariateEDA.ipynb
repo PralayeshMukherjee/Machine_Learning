{
 "cells": [
  {
   "cell_type": "markdown",
   "id": "b0e982b1",
   "metadata": {},
   "source": [
    "# Start Learning EDA -> Exponentially Data Analysis"
   ]
  },
  {
   "cell_type": "markdown",
   "id": "e5a12045",
   "metadata": {},
   "source": [
    "#### Univariate -> Uni + Variate => Single Variable"
   ]
  },
  {
   "cell_type": "code",
   "execution_count": 1,
   "id": "b4909735",
   "metadata": {},
   "outputs": [],
   "source": [
    "import pandas as pd;"
   ]
  },
  {
   "cell_type": "code",
   "execution_count": 2,
   "id": "78aa89a3",
   "metadata": {},
   "outputs": [],
   "source": [
    "df = pd.read_csv('train.csv');"
   ]
  },
  {
   "cell_type": "code",
   "execution_count": null,
   "id": "5f8c0fc7",
   "metadata": {},
   "outputs": [],
   "source": []
  }
 ],
 "metadata": {
  "kernelspec": {
   "display_name": ".venv",
   "language": "python",
   "name": "python3"
  },
  "language_info": {
   "codemirror_mode": {
    "name": "ipython",
    "version": 3
   },
   "file_extension": ".py",
   "mimetype": "text/x-python",
   "name": "python",
   "nbconvert_exporter": "python",
   "pygments_lexer": "ipython3",
   "version": "3.13.6"
  }
 },
 "nbformat": 4,
 "nbformat_minor": 5
}
