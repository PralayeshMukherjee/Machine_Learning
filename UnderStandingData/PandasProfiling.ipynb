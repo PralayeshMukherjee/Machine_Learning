{
 "cells": [
  {
   "cell_type": "markdown",
   "id": "06edc774",
   "metadata": {},
   "source": [
    "### Use Pandas Profilling Tool"
   ]
  },
  {
   "cell_type": "markdown",
   "id": "30616bde",
   "metadata": {},
   "source": []
  }
 ],
 "metadata": {
  "language_info": {
   "name": "python"
  }
 },
 "nbformat": 4,
 "nbformat_minor": 5
}
