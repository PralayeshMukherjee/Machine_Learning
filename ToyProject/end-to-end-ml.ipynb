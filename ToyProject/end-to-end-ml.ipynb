{
 "cells": [
  {
   "cell_type": "markdown",
   "id": "fd3610f8",
   "metadata": {},
   "source": [
    "This is a Toy project"
   ]
  },
  {
   "cell_type": "code",
   "execution_count": 1,
   "id": "efc06ae1",
   "metadata": {},
   "outputs": [],
   "source": [
    "import numpy as np;\n",
    "import pandas as pd;"
   ]
  },
  {
   "cell_type": "code",
   "execution_count": 2,
   "id": "f10691c5",
   "metadata": {},
   "outputs": [],
   "source": [
    "dataFrame = pd.read_csv(\"placement.csv\");"
   ]
  },
  {
   "cell_type": "code",
   "execution_count": 5,
   "id": "e90e1d96",
   "metadata": {},
   "outputs": [
    {
     "name": "stdout",
     "output_type": "stream",
     "text": [
      "   Unnamed: 0  cgpa     iq  placement\n",
      "0           0   6.8  123.0          1\n",
      "1           1   5.9  106.0          0\n",
      "2           2   5.3  121.0          0\n",
      "3           3   7.4  132.0          1\n",
      "4           4   5.8  142.0          0\n"
     ]
    }
   ],
   "source": [
    "print(dataFrame.head())"
   ]
  }
 ],
 "metadata": {
  "kernelspec": {
   "display_name": ".venv",
   "language": "python",
   "name": "python3"
  },
  "language_info": {
   "codemirror_mode": {
    "name": "ipython",
    "version": 3
   },
   "file_extension": ".py",
   "mimetype": "text/x-python",
   "name": "python",
   "nbconvert_exporter": "python",
   "pygments_lexer": "ipython3",
   "version": "3.13.6"
  }
 },
 "nbformat": 4,
 "nbformat_minor": 5
}
