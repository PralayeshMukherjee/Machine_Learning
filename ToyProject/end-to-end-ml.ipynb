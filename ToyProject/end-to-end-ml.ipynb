{
 "cells": [
  {
   "cell_type": "markdown",
   "id": "fd3610f8",
   "metadata": {},
   "source": [
    "This is a Toy project"
   ]
  },
  {
   "cell_type": "code",
   "execution_count": 1,
   "id": "efc06ae1",
   "metadata": {},
   "outputs": [],
   "source": [
    "import numpy as np;\n",
    "import pandas as pd;"
   ]
  },
  {
   "cell_type": "code",
   "execution_count": 2,
   "id": "f10691c5",
   "metadata": {},
   "outputs": [],
   "source": [
    "dataFrame = pd.read_csv(\"placement.csv\");"
   ]
  },
  {
   "cell_type": "code",
   "execution_count": 8,
   "id": "e90e1d96",
   "metadata": {},
   "outputs": [
    {
     "name": "stdout",
     "output_type": "stream",
     "text": [
      "<class 'pandas.core.frame.DataFrame'>\n",
      "RangeIndex: 100 entries, 0 to 99\n",
      "Data columns (total 4 columns):\n",
      " #   Column      Non-Null Count  Dtype  \n",
      "---  ------      --------------  -----  \n",
      " 0   Unnamed: 0  100 non-null    int64  \n",
      " 1   cgpa        100 non-null    float64\n",
      " 2   iq          100 non-null    float64\n",
      " 3   placement   100 non-null    int64  \n",
      "dtypes: float64(2), int64(2)\n",
      "memory usage: 3.3 KB\n"
     ]
    }
   ],
   "source": [
    "dataFrame.info() #here I check the information regarding to the data frame"
   ]
  },
  {
   "cell_type": "markdown",
   "id": "cb1a63fc",
   "metadata": {},
   "source": [
    "step 1 -> data preprocessing"
   ]
  },
  {
   "cell_type": "code",
   "execution_count": 11,
   "id": "acca72dd",
   "metadata": {},
   "outputs": [],
   "source": [
    "dataFrame = dataFrame.iloc[:,1:];# iloc - > integer location based on indexing \n",
    "# here I take all the rows and all the columns except the first one"
   ]
  },
  {
   "cell_type": "code",
   "execution_count": null,
   "id": "e899b911",
   "metadata": {},
   "outputs": [],
   "source": []
  }
 ],
 "metadata": {
  "kernelspec": {
   "display_name": ".venv",
   "language": "python",
   "name": "python3"
  },
  "language_info": {
   "codemirror_mode": {
    "name": "ipython",
    "version": 3
   },
   "file_extension": ".py",
   "mimetype": "text/x-python",
   "name": "python",
   "nbconvert_exporter": "python",
   "pygments_lexer": "ipython3",
   "version": "3.13.6"
  }
 },
 "nbformat": 4,
 "nbformat_minor": 5
}
